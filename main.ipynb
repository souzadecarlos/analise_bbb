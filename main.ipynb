{
 "cells": [
  {
   "attachments": {},
   "cell_type": "markdown",
   "metadata": {},
   "source": [
    "---\n",
    "title: \"Big Brother Brasil - Uma análise exploratória com Python\"\n",
    "format: \n",
    "    html:\n",
    "        code-fold: false\n",
    "execute:\n",
    "    enable: true\n",
    "jupyter: python3\n",
    "---"
   ]
  },
  {
   "attachments": {},
   "cell_type": "markdown",
   "metadata": {},
   "source": [
    "## Big Brother Brasil - Uma análise exploratória com Python"
   ]
  },
  {
   "attachments": {},
   "cell_type": "markdown",
   "metadata": {},
   "source": [
    "- Introdução\n",
    "- Dados\n",
    "    - Origem\n",
    "    - Conhecendo os dados\n",
    "- Desenvolvimento\n",
    "    - Idade\n",
    "    - Região\n",
    "    - Ocupação\n",
    "    - Gênero\n",
    "    - Campeões\n",
    "- Interativo\n",
    "- Conclusão"
   ]
  },
  {
   "cell_type": "code",
   "execution_count": 31,
   "metadata": {},
   "outputs": [
    {
     "data": {
      "text/html": [
       "<div>\n",
       "<style scoped>\n",
       "    .dataframe tbody tr th:only-of-type {\n",
       "        vertical-align: middle;\n",
       "    }\n",
       "\n",
       "    .dataframe tbody tr th {\n",
       "        vertical-align: top;\n",
       "    }\n",
       "\n",
       "    .dataframe thead th {\n",
       "        text-align: right;\n",
       "    }\n",
       "</style>\n",
       "<table border=\"1\" class=\"dataframe\">\n",
       "  <thead>\n",
       "    <tr style=\"text-align: right;\">\n",
       "      <th></th>\n",
       "      <th>nome</th>\n",
       "      <th>genero</th>\n",
       "      <th>data_nascimento</th>\n",
       "      <th>idade_participacao</th>\n",
       "      <th>ocupacao</th>\n",
       "      <th>municipio</th>\n",
       "      <th>pais</th>\n",
       "      <th>classificacao</th>\n",
       "    </tr>\n",
       "  </thead>\n",
       "  <tbody>\n",
       "    <tr>\n",
       "      <th>0</th>\n",
       "      <td>Kleber de Paula Pedra (Bambam)</td>\n",
       "      <td>male</td>\n",
       "      <td>14/02/1978</td>\n",
       "      <td>24.0</td>\n",
       "      <td>Dançarino</td>\n",
       "      <td>Campinas</td>\n",
       "      <td>São Paulo</td>\n",
       "      <td>1</td>\n",
       "    </tr>\n",
       "    <tr>\n",
       "      <th>1</th>\n",
       "      <td>Vanessa Melanie Pascale Ekypenyong Walborn</td>\n",
       "      <td>female</td>\n",
       "      <td>28/11/1974</td>\n",
       "      <td>28.0</td>\n",
       "      <td>Modelo</td>\n",
       "      <td>Rio de Janeiro</td>\n",
       "      <td>Rio de Janeiro</td>\n",
       "      <td>2</td>\n",
       "    </tr>\n",
       "    <tr>\n",
       "      <th>2</th>\n",
       "      <td>André Batista de Carvalho</td>\n",
       "      <td>male</td>\n",
       "      <td>28/11/1974</td>\n",
       "      <td>28.0</td>\n",
       "      <td>Professor de canto</td>\n",
       "      <td>Rio de Janeiro</td>\n",
       "      <td>Rio de Janeiro</td>\n",
       "      <td>3</td>\n",
       "    </tr>\n",
       "    <tr>\n",
       "      <th>3</th>\n",
       "      <td>Antonio Sergio Tavares Campo</td>\n",
       "      <td>male</td>\n",
       "      <td>06/12/1972</td>\n",
       "      <td>30.0</td>\n",
       "      <td>Cabeleireiro</td>\n",
       "      <td>Angola</td>\n",
       "      <td>Exterior</td>\n",
       "      <td>4</td>\n",
       "    </tr>\n",
       "    <tr>\n",
       "      <th>4</th>\n",
       "      <td>Alessandra Begliomini</td>\n",
       "      <td>female</td>\n",
       "      <td>05/12/1974</td>\n",
       "      <td>28.0</td>\n",
       "      <td>Empresária</td>\n",
       "      <td>São Paulo</td>\n",
       "      <td>São Paulo</td>\n",
       "      <td>5</td>\n",
       "    </tr>\n",
       "  </tbody>\n",
       "</table>\n",
       "</div>"
      ],
      "text/plain": [
       "                                         nome  genero data_nascimento  \\\n",
       "0              Kleber de Paula Pedra (Bambam)    male      14/02/1978   \n",
       "1  Vanessa Melanie Pascale Ekypenyong Walborn  female      28/11/1974   \n",
       "2                   André Batista de Carvalho    male      28/11/1974   \n",
       "3                Antonio Sergio Tavares Campo    male      06/12/1972   \n",
       "4                       Alessandra Begliomini  female      05/12/1974   \n",
       "\n",
       "   idade_participacao            ocupacao       municipio             pais  \\\n",
       "0                24.0           Dançarino        Campinas        São Paulo   \n",
       "1                28.0              Modelo  Rio de Janeiro   Rio de Janeiro   \n",
       "2                28.0  Professor de canto  Rio de Janeiro   Rio de Janeiro   \n",
       "3                30.0        Cabeleireiro          Angola         Exterior   \n",
       "4                28.0          Empresária       São Paulo        São Paulo   \n",
       "\n",
       "   classificacao  \n",
       "0              1  \n",
       "1              2  \n",
       "2              3  \n",
       "3              4  \n",
       "4              5  "
      ]
     },
     "execution_count": 31,
     "metadata": {},
     "output_type": "execute_result"
    }
   ],
   "source": [
    "import pandas as pd\n",
    "import seaborn as sns\n",
    "from unidecode import unidecode\n",
    "from zodiac_sign import get_zodiac_sign\n",
    "from datetime import date, datetime\n",
    "from numpy import isnan\n",
    "\n",
    "data_raw = pd.read_csv(\"data/dados.csv\", sep = \";\")\n",
    "data_raw.head(5)"
   ]
  },
  {
   "attachments": {},
   "cell_type": "markdown",
   "metadata": {},
   "source": [
    "### Introdução"
   ]
  },
  {
   "attachments": {},
   "cell_type": "markdown",
   "metadata": {},
   "source": [
    "Texto introduzindo sobre BBB"
   ]
  },
  {
   "attachments": {},
   "cell_type": "markdown",
   "metadata": {},
   "source": [
    "## Dados"
   ]
  },
  {
   "attachments": {},
   "cell_type": "markdown",
   "metadata": {},
   "source": [
    "### Origem"
   ]
  },
  {
   "attachments": {},
   "cell_type": "markdown",
   "metadata": {},
   "source": [
    "### Conhecendo os dados"
   ]
  },
  {
   "cell_type": "code",
   "execution_count": 3,
   "metadata": {},
   "outputs": [
    {
     "data": {
      "text/plain": [
       "(362, 8)"
      ]
     },
     "execution_count": 3,
     "metadata": {},
     "output_type": "execute_result"
    }
   ],
   "source": [
    "data_raw.shape"
   ]
  },
  {
   "cell_type": "code",
   "execution_count": 4,
   "metadata": {},
   "outputs": [
    {
     "data": {
      "text/plain": [
       "nome                   object\n",
       "genero                 object\n",
       "data_nascimento        object\n",
       "idade_participacao    float64\n",
       "ocupacao               object\n",
       "municipio              object\n",
       "pais                   object\n",
       "classificacao           int64\n",
       "dtype: object"
      ]
     },
     "execution_count": 4,
     "metadata": {},
     "output_type": "execute_result"
    }
   ],
   "source": [
    "data_raw.dtypes"
   ]
  },
  {
   "attachments": {},
   "cell_type": "markdown",
   "metadata": {},
   "source": [
    "#### A nossa base é composta por 362 linhas e 8 colunas. As linhas representam todos os participantes das ediçoes de 1 a 22 e as colunas representam algumas informações referentes a esses participantes:\n",
    "- nome (str): nome completo do participante\n",
    "- genero (str): genero do participante (para facilitar a analise, assumiu-se o gênero de acordo com o primeiro nome do participante)\n",
    "- data_nasciment (date): data de nascimento\n",
    "- idade_participacao (date): idade do participante no inicio do reality show\n",
    "- ocupacao (str): profissões (em alguns casos, existe mais de uma profissão)\n",
    "- municipio (str): municipio de nascimento \n",
    "- pais (str): pais de nascimento\n",
    "- classificacao (int): colocação final no programa (1 = 1º lugar, 2 = 2º lugar, etc)"
   ]
  },
  {
   "attachments": {},
   "cell_type": "markdown",
   "metadata": {},
   "source": [
    "## Exploração"
   ]
  },
  {
   "attachments": {},
   "cell_type": "markdown",
   "metadata": {},
   "source": [
    "### Idade"
   ]
  },
  {
   "attachments": {},
   "cell_type": "markdown",
   "metadata": {},
   "source": [
    " "
   ]
  },
  {
   "cell_type": "code",
   "execution_count": 5,
   "metadata": {},
   "outputs": [
    {
     "data": {
      "image/png": "[encoded data removed]",
      "text/plain": [
       "<Figure size 640x480 with 1 Axes>"
      ]
     },
     "metadata": {},
     "output_type": "display_data"
    }
   ],
   "source": [
    "sns.set_style(\"white\")\n",
    "p = sns.histplot(data_raw, x = \"idade_participacao\", binwidth= 1, kde = True, color = sns.color_palette(\"Set2\")[2])\n",
    "p.set(xlabel = \"Idade\", ylabel = \"Nº participantes\")\n",
    "sns.despine(left = True, bottom = True)"
   ]
  },
  {
   "cell_type": "code",
   "execution_count": 6,
   "metadata": {},
   "outputs": [
    {
     "name": "stderr",
     "output_type": "stream",
     "text": [
      "C:\\Users\\Carlos\\AppData\\Local\\Temp\\ipykernel_6268\\1156136826.py:1: UserWarning: The palette list has more values (8) than needed (2), which may not be intended.\n",
      "  sns.histplot(data_raw, x = \"idade_participacao\", hue = 'genero', kde = True, palette= sns.color_palette(\"Set2\"))\n"
     ]
    },
    {
     "data": {
      "text/plain": [
       "<AxesSubplot: xlabel='idade_participacao', ylabel='Count'>"
      ]
     },
     "execution_count": 6,
     "metadata": {},
     "output_type": "execute_result"
    },
    {
     "data": {
      "image/png": "[encoded data removed]",
      "text/plain": [
       "<Figure size 640x480 with 1 Axes>"
      ]
     },
     "metadata": {},
     "output_type": "display_data"
    }
   ],
   "source": [
    "sns.histplot(data_raw, x = \"idade_participacao\", hue = 'genero', kde = True, palette= sns.color_palette(\"Set2\"))"
   ]
  },
  {
   "attachments": {},
   "cell_type": "markdown",
   "metadata": {},
   "source": [
    "Apesar da média de idade ser bastante próxima, nota-se que pessoas do gênero feminino tendem a entrar na casa com idades mais baixas que do gênero masculino"
   ]
  },
  {
   "attachments": {},
   "cell_type": "markdown",
   "metadata": {},
   "source": [
    "Como curiosidade, podemos verificar também se determinado signo tem mais chances de entrar no programa do que outros"
   ]
  },
  {
   "cell_type": "code",
   "execution_count": 76,
   "metadata": {},
   "outputs": [
    {
     "data": {
      "image/png": "[encoded data removed]",
      "text/plain": [
       "<Figure size 640x480 with 1 Axes>"
      ]
     },
     "metadata": {},
     "output_type": "display_data"
    }
   ],
   "source": [
    "# date_str = \"1998/05/29\"\n",
    "# date = datetime.strptime(date_str, \"%d/%m/%Y\")\n",
    "# get_zodiac_sign(date)\n",
    "\n",
    "def pegar_signo(data):\n",
    "    try:\n",
    "        data_formatada = datetime.strptime(data, \"%d/%m/%Y\")\n",
    "        signo = get_zodiac_sign(data_formatada)\n",
    "        return signo\n",
    "    except:\n",
    "        return None\n",
    "\n",
    "\n",
    "data_raw['signo'] = data_raw.apply(lambda row: pegar_signo(row['data_nascimento']), axis = 1)\n",
    "# data_raw.apply(lambda row: neutralizar_genero(row['ocupacao']), axis = 1)\n",
    "plot = sns.countplot(y = data_raw['signo'], order = data_raw['signo'].value_counts().index, palette = \"Purples_r\")\n",
    "plot.set(xlabel = \"Nº de participantes\", ylabel = \"\")\n",
    "sns.despine(left = True, bottom = True)"
   ]
  },
  {
   "attachments": {},
   "cell_type": "markdown",
   "metadata": {},
   "source": [
    "Quando comparamos também o gênero, nota-se que há uma tendência de mulheres mais novas serem chamadas mais do que homens.\n",
    "E em relação e vitórias, será que existe alguma idade que possui mais chance de vencer?"
   ]
  },
  {
   "cell_type": "code",
   "execution_count": 7,
   "metadata": {},
   "outputs": [
    {
     "data": {
      "text/html": [
       "<div>\n",
       "<style scoped>\n",
       "    .dataframe tbody tr th:only-of-type {\n",
       "        vertical-align: middle;\n",
       "    }\n",
       "\n",
       "    .dataframe tbody tr th {\n",
       "        vertical-align: top;\n",
       "    }\n",
       "\n",
       "    .dataframe thead th {\n",
       "        text-align: right;\n",
       "    }\n",
       "</style>\n",
       "<table border=\"1\" class=\"dataframe\">\n",
       "  <thead>\n",
       "    <tr style=\"text-align: right;\">\n",
       "      <th></th>\n",
       "      <th>Idade</th>\n",
       "      <th>Nº participantes</th>\n",
       "      <th>Colocacao média</th>\n",
       "    </tr>\n",
       "  </thead>\n",
       "  <tbody>\n",
       "    <tr>\n",
       "      <th>0</th>\n",
       "      <td>71.0</td>\n",
       "      <td>1</td>\n",
       "      <td>3.0</td>\n",
       "    </tr>\n",
       "    <tr>\n",
       "      <th>1</th>\n",
       "      <td>57.0</td>\n",
       "      <td>1</td>\n",
       "      <td>3.0</td>\n",
       "    </tr>\n",
       "    <tr>\n",
       "      <th>2</th>\n",
       "      <td>44.0</td>\n",
       "      <td>1</td>\n",
       "      <td>5.0</td>\n",
       "    </tr>\n",
       "    <tr>\n",
       "      <th>3</th>\n",
       "      <td>51.0</td>\n",
       "      <td>1</td>\n",
       "      <td>6.0</td>\n",
       "    </tr>\n",
       "    <tr>\n",
       "      <th>4</th>\n",
       "      <td>21.0</td>\n",
       "      <td>10</td>\n",
       "      <td>6.1</td>\n",
       "    </tr>\n",
       "  </tbody>\n",
       "</table>\n",
       "</div>"
      ],
      "text/plain": [
       "   Idade  Nº participantes  Colocacao média\n",
       "0   71.0                 1              3.0\n",
       "1   57.0                 1              3.0\n",
       "2   44.0                 1              5.0\n",
       "3   51.0                 1              6.0\n",
       "4   21.0                10              6.1"
      ]
     },
     "execution_count": 7,
     "metadata": {},
     "output_type": "execute_result"
    }
   ],
   "source": [
    "data_raw.groupby(\"idade_participacao\").agg(\n",
    "    n_participantes = (\"idade_participacao\", \"count\"),\n",
    "    pos_media = (\"classificacao\", \"mean\")\n",
    ").sort_values(\"pos_media\").reset_index().rename({\"idade_participacao\": \"Idade\", \"n_participantes\": \"Nº participantes\", \"pos_media\": \"Colocacao média\"}, axis = 1).head(5)"
   ]
  },
  {
   "cell_type": "code",
   "execution_count": 53,
   "metadata": {},
   "outputs": [
    {
     "data": {
      "text/html": [
       "<div>\n",
       "<style scoped>\n",
       "    .dataframe tbody tr th:only-of-type {\n",
       "        vertical-align: middle;\n",
       "    }\n",
       "\n",
       "    .dataframe tbody tr th {\n",
       "        vertical-align: top;\n",
       "    }\n",
       "\n",
       "    .dataframe thead th {\n",
       "        text-align: right;\n",
       "    }\n",
       "</style>\n",
       "<table border=\"1\" class=\"dataframe\">\n",
       "  <thead>\n",
       "    <tr style=\"text-align: right;\">\n",
       "      <th></th>\n",
       "      <th>Idade</th>\n",
       "      <th>participacoes</th>\n",
       "      <th>Classificacao média</th>\n",
       "    </tr>\n",
       "  </thead>\n",
       "  <tbody>\n",
       "    <tr>\n",
       "      <th>0</th>\n",
       "      <td>21.0</td>\n",
       "      <td>10</td>\n",
       "      <td>6.100000</td>\n",
       "    </tr>\n",
       "    <tr>\n",
       "      <th>1</th>\n",
       "      <td>40.0</td>\n",
       "      <td>2</td>\n",
       "      <td>6.500000</td>\n",
       "    </tr>\n",
       "    <tr>\n",
       "      <th>2</th>\n",
       "      <td>36.0</td>\n",
       "      <td>7</td>\n",
       "      <td>6.714286</td>\n",
       "    </tr>\n",
       "    <tr>\n",
       "      <th>3</th>\n",
       "      <td>20.0</td>\n",
       "      <td>5</td>\n",
       "      <td>6.800000</td>\n",
       "    </tr>\n",
       "    <tr>\n",
       "      <th>4</th>\n",
       "      <td>27.0</td>\n",
       "      <td>31</td>\n",
       "      <td>7.967742</td>\n",
       "    </tr>\n",
       "    <tr>\n",
       "      <th>5</th>\n",
       "      <td>19.0</td>\n",
       "      <td>3</td>\n",
       "      <td>8.000000</td>\n",
       "    </tr>\n",
       "    <tr>\n",
       "      <th>6</th>\n",
       "      <td>34.0</td>\n",
       "      <td>9</td>\n",
       "      <td>8.000000</td>\n",
       "    </tr>\n",
       "    <tr>\n",
       "      <th>7</th>\n",
       "      <td>23.0</td>\n",
       "      <td>17</td>\n",
       "      <td>8.235294</td>\n",
       "    </tr>\n",
       "    <tr>\n",
       "      <th>8</th>\n",
       "      <td>31.0</td>\n",
       "      <td>19</td>\n",
       "      <td>8.368421</td>\n",
       "    </tr>\n",
       "    <tr>\n",
       "      <th>9</th>\n",
       "      <td>25.0</td>\n",
       "      <td>20</td>\n",
       "      <td>8.850000</td>\n",
       "    </tr>\n",
       "  </tbody>\n",
       "</table>\n",
       "</div>"
      ],
      "text/plain": [
       "   Idade  participacoes  Classificacao média\n",
       "0   21.0             10             6.100000\n",
       "1   40.0              2             6.500000\n",
       "2   36.0              7             6.714286\n",
       "3   20.0              5             6.800000\n",
       "4   27.0             31             7.967742\n",
       "5   19.0              3             8.000000\n",
       "6   34.0              9             8.000000\n",
       "7   23.0             17             8.235294\n",
       "8   31.0             19             8.368421\n",
       "9   25.0             20             8.850000"
      ]
     },
     "execution_count": 53,
     "metadata": {},
     "output_type": "execute_result"
    }
   ],
   "source": [
    "data_raw.query(\"classificacao != 99\").groupby(['idade_participacao']).agg(\n",
    "    participacoes = (\"idade_participacao\", \"count\"),\n",
    "    class_media = (\"classificacao\", \"mean\")\n",
    ").query(\"participacoes >= 2\").sort_values(\"class_media\", ascending = True).reset_index().rename({\"idade_participacao\": \"Idade\", \"class_media\": \"Classificacao média\"}, axis = 1).head(10)"
   ]
  },
  {
   "attachments": {},
   "cell_type": "markdown",
   "metadata": {},
   "source": [
    "Considerando as idades com pelo menos duas partipações, 21 anos parece ser a idade em que a média de classificação final é mais alta, seguido por 40 anos e 36 anos. Portanto, se você esta em uma dessas idades, pense em se inscrever."
   ]
  },
  {
   "attachments": {},
   "cell_type": "markdown",
   "metadata": {},
   "source": [
    "## Origem"
   ]
  },
  {
   "attachments": {},
   "cell_type": "markdown",
   "metadata": {},
   "source": [
    "Regiões"
   ]
  },
  {
   "attachments": {},
   "cell_type": "markdown",
   "metadata": {},
   "source": [
    "Ocupação"
   ]
  },
  {
   "attachments": {},
   "cell_type": "markdown",
   "metadata": {},
   "source": [
    "Após o fim do programa, é normal os participantes adquirirem uma nova profissão: \"Ex-BBB\", mas antes disso é necessário que eles sejam escolhidos com base nas suas profissões atuais. Além de \"modelo\", quais outras profissões são importantes para ser escolhido para a casa mais vigiada do Brasil?"
   ]
  },
  {
   "cell_type": "code",
   "execution_count": 87,
   "metadata": {},
   "outputs": [
    {
     "data": {
      "text/plain": [
       "modelo                   40\n",
       "jornalista               10\n",
       "empresário               10\n",
       "cantora                  10\n",
       "ator                      9\n",
       "                         ..\n",
       "estudante de turismo      1\n",
       "produtora                 1\n",
       "estudante de farmácia     1\n",
       "coreógrafo                1\n",
       "bailarino                 1\n",
       "Name: ocupacao, Length: 213, dtype: int64"
      ]
     },
     "execution_count": 87,
     "metadata": {},
     "output_type": "execute_result"
    }
   ],
   "source": [
    "data_raw['ocupacao'].str.lower().str.replace(\" e \", \",\").str.split(\",\").explode().value_counts()"
   ]
  },
  {
   "attachments": {},
   "cell_type": "markdown",
   "metadata": {},
   "source": [
    "Pode-se remover gênero, acentuação e simplificar as profissões para termos uma ideia melhor de como as profissões são distribuidas"
   ]
  },
  {
   "cell_type": "code",
   "execution_count": 8,
   "metadata": {},
   "outputs": [
    {
     "data": {
      "text/plain": [
       "estudante        45\n",
       "model            41\n",
       "ator             18\n",
       "empresári        17\n",
       "cantor           16\n",
       "professor        15\n",
       "advogad          11\n",
       "jornalist        10\n",
       "promotor          9\n",
       "influenciador     8\n",
       "dtype: int64"
      ]
     },
     "execution_count": 8,
     "metadata": {},
     "output_type": "execute_result"
    }
   ],
   "source": [
    "profissoes = data_raw['ocupacao'].str.lower().str.replace(\" e \", \",\").str.replace(\",\", \"/\").str.split(\"/\")\n",
    "profissoes = [j for i in profissoes for j in i]\n",
    "for i, profissao in enumerate(profissoes):\n",
    "    palavra = profissao.split()[0]\n",
    "    if palavra == \"atriz\":\n",
    "        palavra = \"ator\"\n",
    "    if palavra[-1] in ['a', 'o']:\n",
    "        palavra = palavra[0:-1]\n",
    "    profissoes[i] = palavra\n",
    "pd.Series(profissoes).value_counts().head(10)"
   ]
  },
  {
   "cell_type": "code",
   "execution_count": 78,
   "metadata": {},
   "outputs": [],
   "source": [
    "def neutralizar_genero(row):\n",
    "    profissoes = row.replace(\"/\", \", \").replace(\" e \", \", \").split(\", \")\n",
    "    profissoes_resumidas = []\n",
    "    for i, j in enumerate(profissoes):\n",
    "        profissao = unidecode(j.split(\" \")[0]).lower()\n",
    "        if (profissao[-1] in [\"a\", \"o\"]):\n",
    "            profissao = profissao[:-1]\n",
    "        elif profissao == \"atriz\":\n",
    "            profissao = \"ator\"\n",
    "        profissoes_resumidas.append(profissao)\n",
    "    return profissoes_resumidas\n",
    "\n",
    "\n",
    "data_raw['ocupacao_resumida'] = data_raw.apply(lambda row: neutralizar_genero(row['ocupacao']), axis = 1)"
   ]
  },
  {
   "cell_type": "code",
   "execution_count": 80,
   "metadata": {},
   "outputs": [
    {
     "data": {
      "text/plain": [
       "[Text(0, 0, '45'),\n",
       " Text(0, 0, '41'),\n",
       " Text(0, 0, '18'),\n",
       " Text(0, 0, '17'),\n",
       " Text(0, 0, '16'),\n",
       " Text(0, 0, '15'),\n",
       " Text(0, 0, '11'),\n",
       " Text(0, 0, '10'),\n",
       " Text(0, 0, '9'),\n",
       " Text(0, 0, '8')]"
      ]
     },
     "execution_count": 80,
     "metadata": {},
     "output_type": "execute_result"
    },
    {
     "data": {
      "image/png": "[encoded data removed]",
      "text/plain": [
       "<Figure size 640x480 with 1 Axes>"
      ]
     },
     "metadata": {},
     "output_type": "display_data"
    }
   ],
   "source": [
    "p = sns.barplot(y = data_raw['ocupacao_resumida'].explode().value_counts().index,\n",
    "            x = data_raw['ocupacao_resumida'].explode().value_counts(),\n",
    "            order = data_raw['ocupacao_resumida'].explode().value_counts().iloc[:10].index,\n",
    "            palette = \"Purples_r\")\n",
    "p.bar_label(p.containers[0])"
   ]
  },
  {
   "cell_type": "code",
   "execution_count": null,
   "metadata": {},
   "outputs": [],
   "source": []
  }
 ],
 "metadata": {
  "kernelspec": {
   "display_name": "venv",
   "language": "python",
   "name": "python3"
  },
  "language_info": {
   "codemirror_mode": {
    "name": "ipython",
    "version": 3
   },
   "file_extension": ".py",
   "mimetype": "text/x-python",
   "name": "python",
   "nbconvert_exporter": "python",
   "pygments_lexer": "ipython3",
   "version": "3.10.4"
  },
  "orig_nbformat": 4,
  "vscode": {
   "interpreter": {
    "hash": "e029c31957a95a871a3c2e2a2cf7f7487790f9aef55de7e8ce0b4987a4b02208"
   }
  }
 },
 "nbformat": 4,
 "nbformat_minor": 2
}
