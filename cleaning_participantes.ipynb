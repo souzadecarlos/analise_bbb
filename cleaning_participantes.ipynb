{
 "cells": [
  {
   "cell_type": "code",
   "execution_count": 21,
   "metadata": {},
   "outputs": [],
   "source": [
    "import pandas as pd\n",
    "import re\n",
    "import requests\n",
    "from dateutil.relativedelta import relativedelta\n",
    "from datetime import datetime\n",
    "\n",
    "data_raw = pd.read_csv(\"data_raw/participantes.csv\", sep = \";\").drop(axis=1, labels=[\"Unnamed: 0\"])"
   ]
  },
  {
   "attachments": {},
   "cell_type": "markdown",
   "metadata": {},
   "source": [
    "Unindo colunas de nascimento e renomeando"
   ]
  },
  {
   "cell_type": "code",
   "execution_count": 22,
   "metadata": {},
   "outputs": [],
   "source": [
    "cols = ['Data de nascimento', 'Idade', 'Data de Nascimento']\n",
    "data = data_raw.assign(\n",
    "    data_nascimento = lambda x: x['Data de nascimento'].fillna(\"\") +\n",
    "                                x['Data de Nascimento'].fillna(\"\") +\n",
    "                                x['Idade'].fillna(\"\")\n",
    ").drop(cols, axis = 1).drop(\"Ref.\", axis = 1)\n",
    "data = data.rename(columns = {\"Participante\": 'nome', \"Ocupação\": \"ocupacao\", \"Resultado\":\"resultado\"})"
   ]
  },
  {
   "cell_type": "code",
   "execution_count": 98,
   "metadata": {},
   "outputs": [],
   "source": [
    "def remover_nota(data):\n",
    "    \n",
    "    try:\n",
    "        data = str(data)\n",
    "        data = re.sub(\"\\[(.*)\\]\", \"\", data)\n",
    "        data = re.sub(\"\\?\", \"\", data)\n",
    "        data = datetime.strptime(data, \"%d/%m/%Y\")\n",
    "        return data\n",
    "    except:\n",
    "        return None    \n",
    "\n",
    "data = data.assign(\n",
    "    data_nascimento = data.apply(lambda x: remover_nota(x['data_nascimento']), axis = 1)\n",
    ")"
   ]
  },
  {
   "attachments": {},
   "cell_type": "markdown",
   "metadata": {},
   "source": [
    "Corrigindo localidade de origem"
   ]
  },
  {
   "cell_type": "code",
   "execution_count": 99,
   "metadata": {},
   "outputs": [],
   "source": [
    "data_local = data.assign(\n",
    "    municipio = lambda x: x[\"Origem\"].str.split(\",\").str[0],\n",
    "    estado = lambda x: x[\"Origem\"].str.split(\",\").str[1]\n",
    ").drop([\"Origem\"], axis = 1)\n",
    "\n",
    "data_local['estado'] = data_local['estado'].fillna(\"Exterior\")"
   ]
  },
  {
   "attachments": {},
   "cell_type": "markdown",
   "metadata": {},
   "source": [
    "Corrigindo Resultado"
   ]
  },
  {
   "cell_type": "code",
   "execution_count": 100,
   "metadata": {},
   "outputs": [],
   "source": [
    "num_participantes = data_local.groupby([\"edicao\"]).agg(\n",
    "    n_participantes = (\"edicao\", \"count\")\n",
    ")\n",
    "\n",
    "participantes_edicao = data_local.join(num_participantes, on ='edicao').assign(\n",
    "    resultado = lambda x: x['resultado'].str.split(\"em\").str[0]\n",
    ")"
   ]
  },
  {
   "cell_type": "code",
   "execution_count": 101,
   "metadata": {},
   "outputs": [],
   "source": [
    "def arrumar_classificacao(row):\n",
    "    # texto, n_participantes\n",
    "\n",
    "    if any(i in row['resultado'] for i in [\"Vencedor\", \"Vencedora\"]):\n",
    "        row['resultado'] = re.sub(\"Ven.*\", \"1\", row['resultado'])\n",
    "    elif any(i in row['resultado'] for i in [\"eliminado\", \"eliminada\"]):\n",
    "        lugar = re.sub(\"ª eli.*|º eli.*\", \"\", row['resultado'])\n",
    "        lugar = row['n_participantes'] + 1 - int(lugar)\n",
    "        row['resultado'] = str(lugar)\n",
    "    elif \"lugar\" in row['resultado']: \n",
    "        row['resultado'] = row['resultado'][0]\n",
    "    else:\n",
    "        row['resultado'] = None \n",
    "    \n",
    "    return row['resultado']\n",
    "\n",
    "participantes_edicao['classificacao'] = participantes_edicao.apply(arrumar_classificacao, axis = 1)\n",
    "participantes_edicao = participantes_edicao.drop(['resultado'], axis = 1)"
   ]
  },
  {
   "attachments": {},
   "cell_type": "markdown",
   "metadata": {},
   "source": [
    "- Gênero #Não rodar esse codigo"
   ]
  },
  {
   "cell_type": "code",
   "execution_count": 216,
   "metadata": {},
   "outputs": [],
   "source": [
    "# def genero(row):\n",
    "#     key = \"usei o gender-api\"\n",
    "#     primeiro_nome = row['nome'].split(\" \")[0]\n",
    "#     url = f\"https://gender-api.com/get?name={primeiro_nome}&key={key}\"\n",
    "#     gender_api = requests.get(url)\n",
    "#     gender_json = eval(gender_api.text)\n",
    "#     gender = gender_json[\"gender\"]\n",
    "\n",
    "#     return gender\n",
    "\n",
    "# participantes_edicao['genero'] = participantes_edicao.apply(genero, axis = 1)"
   ]
  },
  {
   "cell_type": "code",
   "execution_count": 102,
   "metadata": {},
   "outputs": [],
   "source": [
    "genero = pd.read_csv(\"data/genero.csv\", sep = ';')\n",
    "participantes_edicao = participantes_edicao.merge(genero, how='left', on=\"nome\" )\n",
    "participantes_edicao.to_csv(\"data_raw/participantes_genero.csv\", sep = \";\", index = False)\n",
    "participantes_genero = pd.read_csv(\"data_raw/participantes_genero.csv\", sep = \";\")"
   ]
  },
  {
   "attachments": {},
   "cell_type": "markdown",
   "metadata": {},
   "source": [
    "- Idade quando o programa começou"
   ]
  },
  {
   "cell_type": "code",
   "execution_count": 103,
   "metadata": {},
   "outputs": [],
   "source": [
    "from wikitable import wikitable\n",
    "\n",
    "url = \"https://pt.wikipedia.org/wiki/Big_Brother_Brasil\"\n",
    "temporadas_raw = wikitable(url)[2]"
   ]
  },
  {
   "cell_type": "code",
   "execution_count": 104,
   "metadata": {},
   "outputs": [],
   "source": [
    "temporadas_raw.columns = temporadas_raw.columns.droplevel()"
   ]
  },
  {
   "cell_type": "code",
   "execution_count": 105,
   "metadata": {},
   "outputs": [],
   "source": [
    "estreias = temporadas_raw[[\"Temporada.1\", \"Estreia da temporada\"]].rename({\"Temporada.1\": \"edicao\", \"Estreia da temporada\": \"estreia\"}, axis = 1)\n",
    "\n",
    "estreias['edicao'] = estreias['edicao'].str.split(\" \").str[-1]\n",
    "estreias['estreia'] = estreias['estreia'].str.replace(\" de \", \"/\").str.replace(\"janeiro\", \"01\").str.replace(\"maio\", \"05\")\n",
    "\n",
    "estreias['edicao'] = pd.to_numeric(estreias['edicao'])\n",
    "participantes_estreia = participantes_genero.merge(estreias, on=\"edicao\", how='left')\n",
    "\n",
    "participantes_estreia[['data_nascimento', 'estreia']] = participantes_estreia[['data_nascimento', 'estreia']].apply(pd.to_datetime, infer_datetime_format=True)\n",
    "\n",
    "participantes_estreia = participantes_estreia.assign(\n",
    "    idade_participacao = lambda x: x['estreia'].dt.year - x['data_nascimento'].dt.year\n",
    ").drop(labels=['estreia', 'n_participantes'], axis = 1)"
   ]
  },
  {
   "cell_type": "code",
   "execution_count": 107,
   "metadata": {},
   "outputs": [],
   "source": [
    "participantes_estreia = participantes_estreia[['nome', 'genero', \"data_nascimento\", \"idade_participacao\", \"ocupacao\", \"municipio\", \"estado\", \"edicao\", \"classificacao\"]]"
   ]
  },
  {
   "cell_type": "code",
   "execution_count": 108,
   "metadata": {},
   "outputs": [],
   "source": [
    "participantes_estreia.to_csv(\"data/dados.csv\", sep =';', index = False)"
   ]
  }
 ],
 "metadata": {
  "kernelspec": {
   "display_name": "venv",
   "language": "python",
   "name": "python3"
  },
  "language_info": {
   "codemirror_mode": {
    "name": "ipython",
    "version": 3
   },
   "file_extension": ".py",
   "mimetype": "text/x-python",
   "name": "python",
   "nbconvert_exporter": "python",
   "pygments_lexer": "ipython3",
   "version": "3.10.4"
  },
  "orig_nbformat": 4,
  "vscode": {
   "interpreter": {
    "hash": "e029c31957a95a871a3c2e2a2cf7f7487790f9aef55de7e8ce0b4987a4b02208"
   }
  }
 },
 "nbformat": 4,
 "nbformat_minor": 2
}
